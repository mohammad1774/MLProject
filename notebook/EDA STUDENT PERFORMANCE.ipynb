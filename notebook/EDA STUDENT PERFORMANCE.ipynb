{
 "cells": [
  {
   "cell_type": "markdown",
   "metadata": {},
   "source": []
  },
  {
   "cell_type": "markdown",
   "metadata": {},
   "source": [
    "# Student Performance Indicator\n",
    "\n",
    "### life cycle of Machine Learning Project\n",
    ". Understanding the Problem Statement\n",
    "\n",
    ". Data Collection\n",
    "\n",
    ". Data checks to perform\n",
    "\n",
    ". Exploratory data analysis\n",
    "\n",
    ". Data Pre-processing\n",
    "\n",
    ". Model Training\n",
    "\n",
    ". Choose best model\n",
    "\n",
    "## 1) Problem Statement\n",
    "\n",
    ". This project understands how the student's performance (test scores) is affected by other variables such as Gender,Ethnicity ,Parental level of education, Lunch and Test preparation course.\n",
    "\n",
    "## 2) Data Collection\n",
    "\n",
    ".Dataset Source - https://www.kaggle.com/datasets/spscientist/students-performance-in-exams?datasetId=74977\n",
    "\n",
    ".The data consists of 8 column and 1000 rows.\n",
    "\n",
    "### 2.1) Import Data and Required Packages\n",
    "#### Importing Pandas,Numpy ,Matplotlib, Seaborn and Warings library"
   ]
  },
  {
   "cell_type": "code",
   "execution_count": null,
   "metadata": {},
   "outputs": [],
   "source": [
    "import numpy as np\n",
    "import pandas as pd\n",
    "import matplotlib.pyplot as plt\n",
    "%matplotlib inline\n",
    "import warnings\n",
    "warnings.filterwarnings('ignore')"
   ]
  },
  {
   "cell_type": "code",
   "execution_count": null,
   "metadata": {},
   "outputs": [],
   "source": []
  },
  {
   "cell_type": "code",
   "execution_count": null,
   "metadata": {},
   "outputs": [],
   "source": []
  }
 ],
 "metadata": {
  "kernelspec": {
   "display_name": "Python 3",
   "language": "python",
   "name": "python3"
  },
  "language_info": {
   "name": "python",
   "version": "3.8.0"
  }
 },
 "nbformat": 4,
 "nbformat_minor": 2
}
